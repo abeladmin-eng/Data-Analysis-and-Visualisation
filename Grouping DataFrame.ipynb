{
 "cells": [
  {
   "cell_type": "code",
   "execution_count": 1,
   "metadata": {},
   "outputs": [],
   "source": [
    "import numpy as np\n",
    "from pandas import Series,DataFrame\n",
    "import pandas as pd"
   ]
  },
  {
   "cell_type": "code",
   "execution_count": 12,
   "metadata": {},
   "outputs": [
    {
     "data": {
      "text/html": [
       "<div>\n",
       "<style scoped>\n",
       "    .dataframe tbody tr th:only-of-type {\n",
       "        vertical-align: middle;\n",
       "    }\n",
       "\n",
       "    .dataframe tbody tr th {\n",
       "        vertical-align: top;\n",
       "    }\n",
       "\n",
       "    .dataframe thead th {\n",
       "        text-align: right;\n",
       "    }\n",
       "</style>\n",
       "<table border=\"1\" class=\"dataframe\">\n",
       "  <thead>\n",
       "    <tr style=\"text-align: right;\">\n",
       "      <th></th>\n",
       "      <th>k1</th>\n",
       "      <th>k2</th>\n",
       "      <th>dataset1</th>\n",
       "      <th>dataset2</th>\n",
       "    </tr>\n",
       "  </thead>\n",
       "  <tbody>\n",
       "    <tr>\n",
       "      <th>0</th>\n",
       "      <td>X</td>\n",
       "      <td>akpan</td>\n",
       "      <td>1.969303</td>\n",
       "      <td>-1.597775</td>\n",
       "    </tr>\n",
       "    <tr>\n",
       "      <th>1</th>\n",
       "      <td>X</td>\n",
       "      <td>udo</td>\n",
       "      <td>0.500199</td>\n",
       "      <td>-1.031882</td>\n",
       "    </tr>\n",
       "    <tr>\n",
       "      <th>2</th>\n",
       "      <td>X</td>\n",
       "      <td>akpan</td>\n",
       "      <td>-0.492931</td>\n",
       "      <td>0.401231</td>\n",
       "    </tr>\n",
       "    <tr>\n",
       "      <th>3</th>\n",
       "      <td>Y</td>\n",
       "      <td>udo</td>\n",
       "      <td>-0.976438</td>\n",
       "      <td>0.990983</td>\n",
       "    </tr>\n",
       "    <tr>\n",
       "      <th>4</th>\n",
       "      <td>Y</td>\n",
       "      <td>udo</td>\n",
       "      <td>0.698401</td>\n",
       "      <td>0.471520</td>\n",
       "    </tr>\n",
       "    <tr>\n",
       "      <th>5</th>\n",
       "      <td>Z</td>\n",
       "      <td>akpan</td>\n",
       "      <td>-0.536214</td>\n",
       "      <td>-0.744496</td>\n",
       "    </tr>\n",
       "  </tbody>\n",
       "</table>\n",
       "</div>"
      ],
      "text/plain": [
       "  k1     k2  dataset1  dataset2\n",
       "0  X  akpan  1.969303 -1.597775\n",
       "1  X    udo  0.500199 -1.031882\n",
       "2  X  akpan -0.492931  0.401231\n",
       "3  Y    udo -0.976438  0.990983\n",
       "4  Y    udo  0.698401  0.471520\n",
       "5  Z  akpan -0.536214 -0.744496"
      ]
     },
     "execution_count": 12,
     "metadata": {},
     "output_type": "execute_result"
    }
   ],
   "source": [
    "df1=DataFrame({'k1':['X','X','X','Y','Y','Z'],\n",
    "              'k2':['akpan','udo','akpan','udo','udo','akpan'],\n",
    "             'dataset1':np.random.randn(6),\n",
    "              'dataset2':np.random.randn(6)}\n",
    "             )\n",
    "df1"
   ]
  },
  {
   "cell_type": "code",
   "execution_count": 24,
   "metadata": {},
   "outputs": [
    {
     "data": {
      "text/html": [
       "<div>\n",
       "<style scoped>\n",
       "    .dataframe tbody tr th:only-of-type {\n",
       "        vertical-align: middle;\n",
       "    }\n",
       "\n",
       "    .dataframe tbody tr th {\n",
       "        vertical-align: top;\n",
       "    }\n",
       "\n",
       "    .dataframe thead th {\n",
       "        text-align: right;\n",
       "    }\n",
       "</style>\n",
       "<table border=\"1\" class=\"dataframe\">\n",
       "  <thead>\n",
       "    <tr style=\"text-align: right;\">\n",
       "      <th></th>\n",
       "      <th>dataset1</th>\n",
       "      <th>dataset2</th>\n",
       "    </tr>\n",
       "    <tr>\n",
       "      <th>k1</th>\n",
       "      <th></th>\n",
       "      <th></th>\n",
       "    </tr>\n",
       "  </thead>\n",
       "  <tbody>\n",
       "    <tr>\n",
       "      <th>X</th>\n",
       "      <td>0.658857</td>\n",
       "      <td>-0.742809</td>\n",
       "    </tr>\n",
       "    <tr>\n",
       "      <th>Y</th>\n",
       "      <td>-0.139018</td>\n",
       "      <td>0.731251</td>\n",
       "    </tr>\n",
       "    <tr>\n",
       "      <th>Z</th>\n",
       "      <td>-0.536214</td>\n",
       "      <td>-0.744496</td>\n",
       "    </tr>\n",
       "  </tbody>\n",
       "</table>\n",
       "</div>"
      ],
      "text/plain": [
       "    dataset1  dataset2\n",
       "k1                    \n",
       "X   0.658857 -0.742809\n",
       "Y  -0.139018  0.731251\n",
       "Z  -0.536214 -0.744496"
      ]
     },
     "execution_count": 24,
     "metadata": {},
     "output_type": "execute_result"
    }
   ],
   "source": [
    "df1.groupby('k1').mean()"
   ]
  },
  {
   "cell_type": "code",
   "execution_count": 28,
   "metadata": {},
   "outputs": [
    {
     "data": {
      "text/plain": [
       "k1\n",
       "X    0.658857\n",
       "Y   -0.139018\n",
       "Z   -0.536214\n",
       "Name: dataset1, dtype: float64"
      ]
     },
     "execution_count": 28,
     "metadata": {},
     "output_type": "execute_result"
    }
   ],
   "source": [
    "df1['dataset1'].groupby(df1['k1']).mean()"
   ]
  },
  {
   "cell_type": "code",
   "execution_count": 29,
   "metadata": {},
   "outputs": [
    {
     "data": {
      "text/plain": [
       "array(['Uyo', 'Aba', 'Aba', 'Uyo', 'Uyo', 'Aba'], dtype='<U3')"
      ]
     },
     "execution_count": 29,
     "metadata": {},
     "output_type": "execute_result"
    }
   ],
   "source": [
    "cities = np.array(['Uyo','Aba','Aba','Uyo','Uyo','Aba'])\n",
    "cities"
   ]
  },
  {
   "cell_type": "code",
   "execution_count": 31,
   "metadata": {},
   "outputs": [],
   "source": [
    "month=np.array(['Jan','Jan','Feb','Jan','Feb','Feb'])"
   ]
  },
  {
   "cell_type": "code",
   "execution_count": 39,
   "metadata": {},
   "outputs": [
    {
     "data": {
      "text/html": [
       "<div>\n",
       "<style scoped>\n",
       "    .dataframe tbody tr th:only-of-type {\n",
       "        vertical-align: middle;\n",
       "    }\n",
       "\n",
       "    .dataframe tbody tr th {\n",
       "        vertical-align: top;\n",
       "    }\n",
       "\n",
       "    .dataframe thead th {\n",
       "        text-align: right;\n",
       "    }\n",
       "</style>\n",
       "<table border=\"1\" class=\"dataframe\">\n",
       "  <thead>\n",
       "    <tr style=\"text-align: right;\">\n",
       "      <th></th>\n",
       "      <th></th>\n",
       "      <th>k1</th>\n",
       "      <th>k2</th>\n",
       "      <th>dataset1</th>\n",
       "      <th>dataset2</th>\n",
       "    </tr>\n",
       "  </thead>\n",
       "  <tbody>\n",
       "    <tr>\n",
       "      <th rowspan=\"2\" valign=\"top\">Aba</th>\n",
       "      <th>Feb</th>\n",
       "      <td>Z</td>\n",
       "      <td>akpan</td>\n",
       "      <td>-0.492931</td>\n",
       "      <td>0.401231</td>\n",
       "    </tr>\n",
       "    <tr>\n",
       "      <th>Jan</th>\n",
       "      <td>X</td>\n",
       "      <td>udo</td>\n",
       "      <td>0.500199</td>\n",
       "      <td>-1.031882</td>\n",
       "    </tr>\n",
       "    <tr>\n",
       "      <th rowspan=\"2\" valign=\"top\">Uyo</th>\n",
       "      <th>Feb</th>\n",
       "      <td>Y</td>\n",
       "      <td>udo</td>\n",
       "      <td>0.698401</td>\n",
       "      <td>0.471520</td>\n",
       "    </tr>\n",
       "    <tr>\n",
       "      <th>Jan</th>\n",
       "      <td>Y</td>\n",
       "      <td>udo</td>\n",
       "      <td>1.969303</td>\n",
       "      <td>0.990983</td>\n",
       "    </tr>\n",
       "  </tbody>\n",
       "</table>\n",
       "</div>"
      ],
      "text/plain": [
       "        k1     k2  dataset1  dataset2\n",
       "Aba Feb  Z  akpan -0.492931  0.401231\n",
       "    Jan  X    udo  0.500199 -1.031882\n",
       "Uyo Feb  Y    udo  0.698401  0.471520\n",
       "    Jan  Y    udo  1.969303  0.990983"
      ]
     },
     "execution_count": 39,
     "metadata": {},
     "output_type": "execute_result"
    }
   ],
   "source": [
    "df1.groupby([cities,month]).max()"
   ]
  },
  {
   "cell_type": "code",
   "execution_count": 40,
   "metadata": {},
   "outputs": [
    {
     "data": {
      "text/html": [
       "<div>\n",
       "<style scoped>\n",
       "    .dataframe tbody tr th:only-of-type {\n",
       "        vertical-align: middle;\n",
       "    }\n",
       "\n",
       "    .dataframe tbody tr th {\n",
       "        vertical-align: top;\n",
       "    }\n",
       "\n",
       "    .dataframe thead th {\n",
       "        text-align: right;\n",
       "    }\n",
       "</style>\n",
       "<table border=\"1\" class=\"dataframe\">\n",
       "  <thead>\n",
       "    <tr style=\"text-align: right;\">\n",
       "      <th></th>\n",
       "      <th></th>\n",
       "      <th>k1</th>\n",
       "      <th>k2</th>\n",
       "      <th>dataset1</th>\n",
       "      <th>dataset2</th>\n",
       "    </tr>\n",
       "  </thead>\n",
       "  <tbody>\n",
       "    <tr>\n",
       "      <th rowspan=\"2\" valign=\"top\">Aba</th>\n",
       "      <th>Feb</th>\n",
       "      <td>X</td>\n",
       "      <td>akpan</td>\n",
       "      <td>-0.536214</td>\n",
       "      <td>-0.744496</td>\n",
       "    </tr>\n",
       "    <tr>\n",
       "      <th>Jan</th>\n",
       "      <td>X</td>\n",
       "      <td>udo</td>\n",
       "      <td>0.500199</td>\n",
       "      <td>-1.031882</td>\n",
       "    </tr>\n",
       "    <tr>\n",
       "      <th rowspan=\"2\" valign=\"top\">Uyo</th>\n",
       "      <th>Feb</th>\n",
       "      <td>Y</td>\n",
       "      <td>udo</td>\n",
       "      <td>0.698401</td>\n",
       "      <td>0.471520</td>\n",
       "    </tr>\n",
       "    <tr>\n",
       "      <th>Jan</th>\n",
       "      <td>X</td>\n",
       "      <td>akpan</td>\n",
       "      <td>-0.976438</td>\n",
       "      <td>-1.597775</td>\n",
       "    </tr>\n",
       "  </tbody>\n",
       "</table>\n",
       "</div>"
      ],
      "text/plain": [
       "        k1     k2  dataset1  dataset2\n",
       "Aba Feb  X  akpan -0.536214 -0.744496\n",
       "    Jan  X    udo  0.500199 -1.031882\n",
       "Uyo Feb  Y    udo  0.698401  0.471520\n",
       "    Jan  X  akpan -0.976438 -1.597775"
      ]
     },
     "execution_count": 40,
     "metadata": {},
     "output_type": "execute_result"
    }
   ],
   "source": [
    "df1.groupby([cities,month]).min()"
   ]
  },
  {
   "cell_type": "code",
   "execution_count": 57,
   "metadata": {},
   "outputs": [
    {
     "name": "stdout",
     "output_type": "stream",
     "text": [
      "The name is X\n",
      "  k1     k2  dataset1  dataset2\n",
      "0  X  akpan  1.969303 -1.597775\n",
      "1  X    udo  0.500199 -1.031882\n",
      "2  X  akpan -0.492931  0.401231\n",
      "\n",
      "\n",
      "The name is Y\n",
      "  k1   k2  dataset1  dataset2\n",
      "3  Y  udo -0.976438  0.990983\n",
      "4  Y  udo  0.698401  0.471520\n",
      "\n",
      "\n",
      "The name is Z\n",
      "  k1     k2  dataset1  dataset2\n",
      "5  Z  akpan -0.536214 -0.744496\n",
      "\n",
      "\n"
     ]
    }
   ],
   "source": [
    "for name,group in df1.groupby('k1'):\n",
    "    print(f'The name is {name}')\n",
    "    #print(f'and the group is {group}')\n",
    "    print(group)\n",
    "    print('\\n')"
   ]
  },
  {
   "cell_type": "code",
   "execution_count": 46,
   "metadata": {},
   "outputs": [
    {
     "data": {
      "text/plain": [
       "Aba  Feb    2\n",
       "     Jan    1\n",
       "Uyo  Feb    1\n",
       "     Jan    2\n",
       "dtype: int64"
      ]
     },
     "execution_count": 46,
     "metadata": {},
     "output_type": "execute_result"
    }
   ],
   "source": [
    "df1.groupby([cities,month]).size()"
   ]
  },
  {
   "cell_type": "code",
   "execution_count": 47,
   "metadata": {},
   "outputs": [
    {
     "data": {
      "text/html": [
       "<div>\n",
       "<style scoped>\n",
       "    .dataframe tbody tr th:only-of-type {\n",
       "        vertical-align: middle;\n",
       "    }\n",
       "\n",
       "    .dataframe tbody tr th {\n",
       "        vertical-align: top;\n",
       "    }\n",
       "\n",
       "    .dataframe thead th {\n",
       "        text-align: right;\n",
       "    }\n",
       "</style>\n",
       "<table border=\"1\" class=\"dataframe\">\n",
       "  <thead>\n",
       "    <tr style=\"text-align: right;\">\n",
       "      <th></th>\n",
       "      <th></th>\n",
       "      <th>k1</th>\n",
       "      <th>k2</th>\n",
       "      <th>dataset1</th>\n",
       "      <th>dataset2</th>\n",
       "    </tr>\n",
       "  </thead>\n",
       "  <tbody>\n",
       "    <tr>\n",
       "      <th rowspan=\"2\" valign=\"top\">Aba</th>\n",
       "      <th>Feb</th>\n",
       "      <td>2</td>\n",
       "      <td>2</td>\n",
       "      <td>2</td>\n",
       "      <td>2</td>\n",
       "    </tr>\n",
       "    <tr>\n",
       "      <th>Jan</th>\n",
       "      <td>1</td>\n",
       "      <td>1</td>\n",
       "      <td>1</td>\n",
       "      <td>1</td>\n",
       "    </tr>\n",
       "    <tr>\n",
       "      <th rowspan=\"2\" valign=\"top\">Uyo</th>\n",
       "      <th>Feb</th>\n",
       "      <td>1</td>\n",
       "      <td>1</td>\n",
       "      <td>1</td>\n",
       "      <td>1</td>\n",
       "    </tr>\n",
       "    <tr>\n",
       "      <th>Jan</th>\n",
       "      <td>2</td>\n",
       "      <td>2</td>\n",
       "      <td>2</td>\n",
       "      <td>2</td>\n",
       "    </tr>\n",
       "  </tbody>\n",
       "</table>\n",
       "</div>"
      ],
      "text/plain": [
       "         k1  k2  dataset1  dataset2\n",
       "Aba Feb   2   2         2         2\n",
       "    Jan   1   1         1         1\n",
       "Uyo Feb   1   1         1         1\n",
       "    Jan   2   2         2         2"
      ]
     },
     "execution_count": 47,
     "metadata": {},
     "output_type": "execute_result"
    }
   ],
   "source": [
    "df1.groupby([cities,month]).count()"
   ]
  },
  {
   "cell_type": "code",
   "execution_count": 61,
   "metadata": {},
   "outputs": [
    {
     "name": "stdout",
     "output_type": "stream",
     "text": [
      "k1=X and k2=akpan\n",
      "  k1     k2  dataset1  dataset2\n",
      "0  X  akpan  1.969303 -1.597775\n",
      "2  X  akpan -0.492931  0.401231\n",
      "\n",
      "\n",
      "k1=X and k2=udo\n",
      "  k1   k2  dataset1  dataset2\n",
      "1  X  udo  0.500199 -1.031882\n",
      "\n",
      "\n",
      "k1=Y and k2=udo\n",
      "  k1   k2  dataset1  dataset2\n",
      "3  Y  udo -0.976438  0.990983\n",
      "4  Y  udo  0.698401  0.471520\n",
      "\n",
      "\n",
      "k1=Z and k2=akpan\n",
      "  k1     k2  dataset1  dataset2\n",
      "5  Z  akpan -0.536214 -0.744496\n",
      "\n",
      "\n"
     ]
    }
   ],
   "source": [
    "for (k1,k2), group in df1.groupby(['k1','k2']):\n",
    "    print(f'k1={k1} and k2={k2}')\n",
    "    print(group)\n",
    "    print('\\n')"
   ]
  },
  {
   "cell_type": "code",
   "execution_count": 62,
   "metadata": {},
   "outputs": [],
   "source": [
    "gd=dict(list(df1.groupby('k1')))"
   ]
  },
  {
   "cell_type": "code",
   "execution_count": 66,
   "metadata": {},
   "outputs": [
    {
     "data": {
      "text/html": [
       "<div>\n",
       "<style scoped>\n",
       "    .dataframe tbody tr th:only-of-type {\n",
       "        vertical-align: middle;\n",
       "    }\n",
       "\n",
       "    .dataframe tbody tr th {\n",
       "        vertical-align: top;\n",
       "    }\n",
       "\n",
       "    .dataframe thead th {\n",
       "        text-align: right;\n",
       "    }\n",
       "</style>\n",
       "<table border=\"1\" class=\"dataframe\">\n",
       "  <thead>\n",
       "    <tr style=\"text-align: right;\">\n",
       "      <th></th>\n",
       "      <th>k1</th>\n",
       "      <th>k2</th>\n",
       "      <th>dataset1</th>\n",
       "      <th>dataset2</th>\n",
       "    </tr>\n",
       "  </thead>\n",
       "  <tbody>\n",
       "    <tr>\n",
       "      <th>0</th>\n",
       "      <td>X</td>\n",
       "      <td>akpan</td>\n",
       "      <td>1.969303</td>\n",
       "      <td>-1.597775</td>\n",
       "    </tr>\n",
       "    <tr>\n",
       "      <th>1</th>\n",
       "      <td>X</td>\n",
       "      <td>udo</td>\n",
       "      <td>0.500199</td>\n",
       "      <td>-1.031882</td>\n",
       "    </tr>\n",
       "    <tr>\n",
       "      <th>2</th>\n",
       "      <td>X</td>\n",
       "      <td>akpan</td>\n",
       "      <td>-0.492931</td>\n",
       "      <td>0.401231</td>\n",
       "    </tr>\n",
       "  </tbody>\n",
       "</table>\n",
       "</div>"
      ],
      "text/plain": [
       "  k1     k2  dataset1  dataset2\n",
       "0  X  akpan  1.969303 -1.597775\n",
       "1  X    udo  0.500199 -1.031882\n",
       "2  X  akpan -0.492931  0.401231"
      ]
     },
     "execution_count": 66,
     "metadata": {},
     "output_type": "execute_result"
    }
   ],
   "source": [
    "gd['X']"
   ]
  },
  {
   "cell_type": "code",
   "execution_count": 67,
   "metadata": {},
   "outputs": [
    {
     "data": {
      "text/html": [
       "<div>\n",
       "<style scoped>\n",
       "    .dataframe tbody tr th:only-of-type {\n",
       "        vertical-align: middle;\n",
       "    }\n",
       "\n",
       "    .dataframe tbody tr th {\n",
       "        vertical-align: top;\n",
       "    }\n",
       "\n",
       "    .dataframe thead th {\n",
       "        text-align: right;\n",
       "    }\n",
       "</style>\n",
       "<table border=\"1\" class=\"dataframe\">\n",
       "  <thead>\n",
       "    <tr style=\"text-align: right;\">\n",
       "      <th></th>\n",
       "      <th>k1</th>\n",
       "      <th>k2</th>\n",
       "      <th>dataset1</th>\n",
       "      <th>dataset2</th>\n",
       "    </tr>\n",
       "  </thead>\n",
       "  <tbody>\n",
       "    <tr>\n",
       "      <th>3</th>\n",
       "      <td>Y</td>\n",
       "      <td>udo</td>\n",
       "      <td>-0.976438</td>\n",
       "      <td>0.990983</td>\n",
       "    </tr>\n",
       "    <tr>\n",
       "      <th>4</th>\n",
       "      <td>Y</td>\n",
       "      <td>udo</td>\n",
       "      <td>0.698401</td>\n",
       "      <td>0.471520</td>\n",
       "    </tr>\n",
       "  </tbody>\n",
       "</table>\n",
       "</div>"
      ],
      "text/plain": [
       "  k1   k2  dataset1  dataset2\n",
       "3  Y  udo -0.976438  0.990983\n",
       "4  Y  udo  0.698401  0.471520"
      ]
     },
     "execution_count": 67,
     "metadata": {},
     "output_type": "execute_result"
    }
   ],
   "source": [
    "gd['Y']"
   ]
  },
  {
   "cell_type": "code",
   "execution_count": 68,
   "metadata": {},
   "outputs": [
    {
     "data": {
      "text/html": [
       "<div>\n",
       "<style scoped>\n",
       "    .dataframe tbody tr th:only-of-type {\n",
       "        vertical-align: middle;\n",
       "    }\n",
       "\n",
       "    .dataframe tbody tr th {\n",
       "        vertical-align: top;\n",
       "    }\n",
       "\n",
       "    .dataframe thead th {\n",
       "        text-align: right;\n",
       "    }\n",
       "</style>\n",
       "<table border=\"1\" class=\"dataframe\">\n",
       "  <thead>\n",
       "    <tr style=\"text-align: right;\">\n",
       "      <th></th>\n",
       "      <th>k1</th>\n",
       "      <th>k2</th>\n",
       "      <th>dataset1</th>\n",
       "      <th>dataset2</th>\n",
       "    </tr>\n",
       "  </thead>\n",
       "  <tbody>\n",
       "    <tr>\n",
       "      <th>0</th>\n",
       "      <td>X</td>\n",
       "      <td>akpan</td>\n",
       "      <td>1.969303</td>\n",
       "      <td>-1.597775</td>\n",
       "    </tr>\n",
       "    <tr>\n",
       "      <th>1</th>\n",
       "      <td>X</td>\n",
       "      <td>udo</td>\n",
       "      <td>0.500199</td>\n",
       "      <td>-1.031882</td>\n",
       "    </tr>\n",
       "    <tr>\n",
       "      <th>2</th>\n",
       "      <td>X</td>\n",
       "      <td>akpan</td>\n",
       "      <td>-0.492931</td>\n",
       "      <td>0.401231</td>\n",
       "    </tr>\n",
       "    <tr>\n",
       "      <th>3</th>\n",
       "      <td>Y</td>\n",
       "      <td>udo</td>\n",
       "      <td>-0.976438</td>\n",
       "      <td>0.990983</td>\n",
       "    </tr>\n",
       "    <tr>\n",
       "      <th>4</th>\n",
       "      <td>Y</td>\n",
       "      <td>udo</td>\n",
       "      <td>0.698401</td>\n",
       "      <td>0.471520</td>\n",
       "    </tr>\n",
       "    <tr>\n",
       "      <th>5</th>\n",
       "      <td>Z</td>\n",
       "      <td>akpan</td>\n",
       "      <td>-0.536214</td>\n",
       "      <td>-0.744496</td>\n",
       "    </tr>\n",
       "  </tbody>\n",
       "</table>\n",
       "</div>"
      ],
      "text/plain": [
       "  k1     k2  dataset1  dataset2\n",
       "0  X  akpan  1.969303 -1.597775\n",
       "1  X    udo  0.500199 -1.031882\n",
       "2  X  akpan -0.492931  0.401231\n",
       "3  Y    udo -0.976438  0.990983\n",
       "4  Y    udo  0.698401  0.471520\n",
       "5  Z  akpan -0.536214 -0.744496"
      ]
     },
     "execution_count": 68,
     "metadata": {},
     "output_type": "execute_result"
    }
   ],
   "source": [
    "df1"
   ]
  },
  {
   "cell_type": "code",
   "execution_count": 70,
   "metadata": {},
   "outputs": [
    {
     "data": {
      "text/plain": [
       "{dtype('float64'):    dataset1  dataset2\n",
       " 0  1.969303 -1.597775\n",
       " 1  0.500199 -1.031882\n",
       " 2 -0.492931  0.401231\n",
       " 3 -0.976438  0.990983\n",
       " 4  0.698401  0.471520\n",
       " 5 -0.536214 -0.744496, dtype('O'):   k1     k2\n",
       " 0  X  akpan\n",
       " 1  X    udo\n",
       " 2  X  akpan\n",
       " 3  Y    udo\n",
       " 4  Y    udo\n",
       " 5  Z  akpan}"
      ]
     },
     "execution_count": 70,
     "metadata": {},
     "output_type": "execute_result"
    }
   ],
   "source": [
    "gd1=dict(list(df1.groupby(df1.dtypes,axis=1)))\n",
    "gd1"
   ]
  },
  {
   "cell_type": "code",
   "execution_count": 76,
   "metadata": {},
   "outputs": [
    {
     "data": {
      "text/plain": [
       "k1  k2   \n",
       "X   akpan    0.738186\n",
       "    udo      0.500199\n",
       "Y   udo     -0.139018\n",
       "Z   akpan   -0.536214\n",
       "Name: dataset1, dtype: float64"
      ]
     },
     "execution_count": 76,
     "metadata": {},
     "output_type": "execute_result"
    }
   ],
   "source": [
    "df1.groupby(['k1','k2']).mean()['dataset1']"
   ]
  },
  {
   "cell_type": "code",
   "execution_count": 84,
   "metadata": {},
   "outputs": [
    {
     "data": {
      "text/plain": [
       "k1\n",
       "X    0.658857\n",
       "Y   -0.139018\n",
       "Z   -0.536214\n",
       "Name: dataset1, dtype: float64"
      ]
     },
     "execution_count": 84,
     "metadata": {},
     "output_type": "execute_result"
    }
   ],
   "source": [
    "df1['dataset1'].groupby(df1['k1']).mean()"
   ]
  },
  {
   "cell_type": "code",
   "execution_count": 85,
   "metadata": {},
   "outputs": [
    {
     "data": {
      "text/html": [
       "<div>\n",
       "<style scoped>\n",
       "    .dataframe tbody tr th:only-of-type {\n",
       "        vertical-align: middle;\n",
       "    }\n",
       "\n",
       "    .dataframe tbody tr th {\n",
       "        vertical-align: top;\n",
       "    }\n",
       "\n",
       "    .dataframe thead th {\n",
       "        text-align: right;\n",
       "    }\n",
       "</style>\n",
       "<table border=\"1\" class=\"dataframe\">\n",
       "  <thead>\n",
       "    <tr style=\"text-align: right;\">\n",
       "      <th></th>\n",
       "      <th></th>\n",
       "      <th>dataset1</th>\n",
       "      <th>dataset2</th>\n",
       "    </tr>\n",
       "    <tr>\n",
       "      <th>k1</th>\n",
       "      <th>k2</th>\n",
       "      <th></th>\n",
       "      <th></th>\n",
       "    </tr>\n",
       "  </thead>\n",
       "  <tbody>\n",
       "    <tr>\n",
       "      <th rowspan=\"2\" valign=\"top\">X</th>\n",
       "      <th>akpan</th>\n",
       "      <td>0.738186</td>\n",
       "      <td>-0.598272</td>\n",
       "    </tr>\n",
       "    <tr>\n",
       "      <th>udo</th>\n",
       "      <td>0.500199</td>\n",
       "      <td>-1.031882</td>\n",
       "    </tr>\n",
       "    <tr>\n",
       "      <th>Y</th>\n",
       "      <th>udo</th>\n",
       "      <td>-0.139018</td>\n",
       "      <td>0.731251</td>\n",
       "    </tr>\n",
       "    <tr>\n",
       "      <th>Z</th>\n",
       "      <th>akpan</th>\n",
       "      <td>-0.536214</td>\n",
       "      <td>-0.744496</td>\n",
       "    </tr>\n",
       "  </tbody>\n",
       "</table>\n",
       "</div>"
      ],
      "text/plain": [
       "          dataset1  dataset2\n",
       "k1 k2                       \n",
       "X  akpan  0.738186 -0.598272\n",
       "   udo    0.500199 -1.031882\n",
       "Y  udo   -0.139018  0.731251\n",
       "Z  akpan -0.536214 -0.744496"
      ]
     },
     "execution_count": 85,
     "metadata": {},
     "output_type": "execute_result"
    }
   ],
   "source": [
    "df1.groupby(['k1','k2']).mean()"
   ]
  },
  {
   "cell_type": "code",
   "execution_count": null,
   "metadata": {},
   "outputs": [],
   "source": []
  }
 ],
 "metadata": {
  "kernelspec": {
   "display_name": "Python 3",
   "language": "python",
   "name": "python3"
  },
  "language_info": {
   "codemirror_mode": {
    "name": "ipython",
    "version": 3
   },
   "file_extension": ".py",
   "mimetype": "text/x-python",
   "name": "python",
   "nbconvert_exporter": "python",
   "pygments_lexer": "ipython3",
   "version": "3.7.1"
  }
 },
 "nbformat": 4,
 "nbformat_minor": 2
}
